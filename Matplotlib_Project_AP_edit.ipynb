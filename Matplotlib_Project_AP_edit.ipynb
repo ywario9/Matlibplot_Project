{
 "cells": [
  {
   "cell_type": "code",
   "execution_count": 1,
   "metadata": {},
   "outputs": [],
   "source": [
    "import matplotlib.pyplot as plt\n",
    "import pandas as pd\n",
    "import scipy.stats as st\n",
    "import numpy as np\n",
    "from matplotlib import cm as cm\n",
    "from scipy import stats\n",
    "%matplotlib inline\n",
    "\n",
    "Deaths_by_state_df= pd.read_csv('Overdose_Data.csv')\n",
    "\n",
    "                             "
   ]
  },
  {
   "cell_type": "code",
   "execution_count": 2,
   "metadata": {
    "scrolled": false
   },
   "outputs": [
    {
     "data": {
      "text/html": [
       "<div>\n",
       "<style scoped>\n",
       "    .dataframe tbody tr th:only-of-type {\n",
       "        vertical-align: middle;\n",
       "    }\n",
       "\n",
       "    .dataframe tbody tr th {\n",
       "        vertical-align: top;\n",
       "    }\n",
       "\n",
       "    .dataframe thead th {\n",
       "        text-align: right;\n",
       "    }\n",
       "</style>\n",
       "<table border=\"1\" class=\"dataframe\">\n",
       "  <thead>\n",
       "    <tr style=\"text-align: right;\">\n",
       "      <th></th>\n",
       "      <th>Row Labels</th>\n",
       "      <th>Year</th>\n",
       "      <th>State</th>\n",
       "      <th>State Name</th>\n",
       "      <th>Sum of Data Value</th>\n",
       "      <th>Natural and Semisynthetic Opioids (e.g. oxycodone, hydrocodone)</th>\n",
       "      <th>Synthetic Opioids, other than Methadone (e.g. fentanyl, tramadol)</th>\n",
       "    </tr>\n",
       "  </thead>\n",
       "  <tbody>\n",
       "    <tr>\n",
       "      <th>0</th>\n",
       "      <td>AK2015</td>\n",
       "      <td>2015</td>\n",
       "      <td>AK</td>\n",
       "      <td>Alaska</td>\n",
       "      <td>50086</td>\n",
       "      <td>34</td>\n",
       "      <td>18</td>\n",
       "    </tr>\n",
       "    <tr>\n",
       "      <th>1</th>\n",
       "      <td>AK2016</td>\n",
       "      <td>2016</td>\n",
       "      <td>AK</td>\n",
       "      <td>Alaska</td>\n",
       "      <td>51141</td>\n",
       "      <td>34</td>\n",
       "      <td>18</td>\n",
       "    </tr>\n",
       "    <tr>\n",
       "      <th>2</th>\n",
       "      <td>AK2017</td>\n",
       "      <td>2017</td>\n",
       "      <td>AK</td>\n",
       "      <td>Alaska</td>\n",
       "      <td>51597</td>\n",
       "      <td>34</td>\n",
       "      <td>18</td>\n",
       "    </tr>\n",
       "    <tr>\n",
       "      <th>3</th>\n",
       "      <td>AK2018</td>\n",
       "      <td>2018</td>\n",
       "      <td>AK</td>\n",
       "      <td>Alaska</td>\n",
       "      <td>51865</td>\n",
       "      <td>34</td>\n",
       "      <td>18</td>\n",
       "    </tr>\n",
       "    <tr>\n",
       "      <th>4</th>\n",
       "      <td>AK2019</td>\n",
       "      <td>2019</td>\n",
       "      <td>AK</td>\n",
       "      <td>Alaska</td>\n",
       "      <td>35511</td>\n",
       "      <td>34</td>\n",
       "      <td>18</td>\n",
       "    </tr>\n",
       "  </tbody>\n",
       "</table>\n",
       "</div>"
      ],
      "text/plain": [
       "  Row Labels  Year State State Name  Sum of Data Value  \\\n",
       "0     AK2015  2015    AK     Alaska              50086   \n",
       "1     AK2016  2016    AK     Alaska              51141   \n",
       "2     AK2017  2017    AK     Alaska              51597   \n",
       "3     AK2018  2018    AK     Alaska              51865   \n",
       "4     AK2019  2019    AK     Alaska              35511   \n",
       "\n",
       "   Natural and Semisynthetic Opioids (e.g. oxycodone, hydrocodone)  \\\n",
       "0                                                 34                 \n",
       "1                                                 34                 \n",
       "2                                                 34                 \n",
       "3                                                 34                 \n",
       "4                                                 34                 \n",
       "\n",
       "   Synthetic Opioids, other than Methadone (e.g. fentanyl, tramadol)  \n",
       "0                                                 18                  \n",
       "1                                                 18                  \n",
       "2                                                 18                  \n",
       "3                                                 18                  \n",
       "4                                                 18                  "
      ]
     },
     "execution_count": 2,
     "metadata": {},
     "output_type": "execute_result"
    }
   ],
   "source": [
    "Deaths_by_state_df\n",
    "Deaths_by_state_df.head()"
   ]
  },
  {
   "cell_type": "code",
   "execution_count": 3,
   "metadata": {},
   "outputs": [
    {
     "data": {
      "text/html": [
       "<div>\n",
       "<style scoped>\n",
       "    .dataframe tbody tr th:only-of-type {\n",
       "        vertical-align: middle;\n",
       "    }\n",
       "\n",
       "    .dataframe tbody tr th {\n",
       "        vertical-align: top;\n",
       "    }\n",
       "\n",
       "    .dataframe thead th {\n",
       "        text-align: right;\n",
       "    }\n",
       "</style>\n",
       "<table border=\"1\" class=\"dataframe\">\n",
       "  <thead>\n",
       "    <tr style=\"text-align: right;\">\n",
       "      <th></th>\n",
       "      <th>Row Labels</th>\n",
       "      <th>Year</th>\n",
       "      <th>State</th>\n",
       "      <th>State Name</th>\n",
       "      <th>Sum of Data Value</th>\n",
       "      <th>Natural and Semisynthetic Opioids (e.g. oxycodone, hydrocodone)</th>\n",
       "      <th>Synthetic Opioids, other than Methadone (e.g. fentanyl, tramadol)</th>\n",
       "    </tr>\n",
       "  </thead>\n",
       "  <tbody>\n",
       "    <tr>\n",
       "      <th>25</th>\n",
       "      <td>CO2015</td>\n",
       "      <td>2015</td>\n",
       "      <td>CO</td>\n",
       "      <td>Colorado</td>\n",
       "      <td>441445</td>\n",
       "      <td>222</td>\n",
       "      <td>134</td>\n",
       "    </tr>\n",
       "    <tr>\n",
       "      <th>26</th>\n",
       "      <td>CO2016</td>\n",
       "      <td>2016</td>\n",
       "      <td>CO</td>\n",
       "      <td>Colorado</td>\n",
       "      <td>450894</td>\n",
       "      <td>222</td>\n",
       "      <td>134</td>\n",
       "    </tr>\n",
       "    <tr>\n",
       "      <th>27</th>\n",
       "      <td>CO2017</td>\n",
       "      <td>2017</td>\n",
       "      <td>CO</td>\n",
       "      <td>Colorado</td>\n",
       "      <td>461701</td>\n",
       "      <td>222</td>\n",
       "      <td>134</td>\n",
       "    </tr>\n",
       "    <tr>\n",
       "      <th>28</th>\n",
       "      <td>CO2018</td>\n",
       "      <td>2018</td>\n",
       "      <td>CO</td>\n",
       "      <td>Colorado</td>\n",
       "      <td>468890</td>\n",
       "      <td>222</td>\n",
       "      <td>134</td>\n",
       "    </tr>\n",
       "    <tr>\n",
       "      <th>29</th>\n",
       "      <td>CO2019</td>\n",
       "      <td>2019</td>\n",
       "      <td>CO</td>\n",
       "      <td>Colorado</td>\n",
       "      <td>313923</td>\n",
       "      <td>222</td>\n",
       "      <td>134</td>\n",
       "    </tr>\n",
       "  </tbody>\n",
       "</table>\n",
       "</div>"
      ],
      "text/plain": [
       "   Row Labels  Year State State Name  Sum of Data Value  \\\n",
       "25     CO2015  2015    CO   Colorado             441445   \n",
       "26     CO2016  2016    CO   Colorado             450894   \n",
       "27     CO2017  2017    CO   Colorado             461701   \n",
       "28     CO2018  2018    CO   Colorado             468890   \n",
       "29     CO2019  2019    CO   Colorado             313923   \n",
       "\n",
       "    Natural and Semisynthetic Opioids (e.g. oxycodone, hydrocodone)  \\\n",
       "25                                                222                 \n",
       "26                                                222                 \n",
       "27                                                222                 \n",
       "28                                                222                 \n",
       "29                                                222                 \n",
       "\n",
       "    Synthetic Opioids, other than Methadone (e.g. fentanyl, tramadol)  \n",
       "25                                                134                  \n",
       "26                                                134                  \n",
       "27                                                134                  \n",
       "28                                                134                  \n",
       "29                                                134                  "
      ]
     },
     "execution_count": 3,
     "metadata": {},
     "output_type": "execute_result"
    }
   ],
   "source": [
    "#Assign df to recreationally legalized states\n",
    "Deaths_by_dc = Deaths_by_state_df.loc[Deaths_by_state_df['State Name']== 'District of Columbia']\n",
    "Deaths_by_ca = Deaths_by_state_df.loc[Deaths_by_state_df['State Name']== 'California']\n",
    "Deaths_by_co = Deaths_by_state_df.loc[Deaths_by_state_df['State Name']== 'Colorado']\n",
    "Deaths_by_co"
   ]
  },
  {
   "cell_type": "code",
   "execution_count": 4,
   "metadata": {},
   "outputs": [
    {
     "data": {
      "image/png": "[encoded data removed]",
      "text/plain": [
       "<Figure size 432x288 with 1 Axes>"
      ]
     },
     "metadata": {
      "needs_background": "light"
     },
     "output_type": "display_data"
    }
   ],
   "source": [
    "#Bar Chart with Trendline Overdose Deaths by Colorado:Recreatioanlly Legal State\n",
    "c_axis= Deaths_by_co['Year']\n",
    "d_axis= Deaths_by_co['Sum of Data Value']\n",
    "xticks= np.arange(min(c_axis),max(d_axis),500000)\n",
    "#Trendline with Scatter\n",
    "cc_slope, cc_int, cc_r, cc_p, cc_std_err = stats.linregress(\n",
    "    c_axis, d_axis)\n",
    "cc_fit = cc_slope * c_axis + cc_int\n",
    "plt.bar(c_axis, d_axis, color=\"g\", align=\"center\")\n",
    "plt.plot(c_axis,cc_fit,\"--\")\n",
    "plt.xticks(c_axis, rotation=90)\n",
    "plt.xlabel('Year')\n",
    "plt.ylabel('Number of Overdose Deaths')\n",
    "plt.title(\"Colorado Drug Overdose Deaths\")\n",
    "plt.show()"
   ]
  },
  {
   "cell_type": "code",
   "execution_count": 5,
   "metadata": {
    "scrolled": true
   },
   "outputs": [
    {
     "data": {
      "text/html": [
       "<div>\n",
       "<style scoped>\n",
       "    .dataframe tbody tr th:only-of-type {\n",
       "        vertical-align: middle;\n",
       "    }\n",
       "\n",
       "    .dataframe tbody tr th {\n",
       "        vertical-align: top;\n",
       "    }\n",
       "\n",
       "    .dataframe thead th {\n",
       "        text-align: right;\n",
       "    }\n",
       "</style>\n",
       "<table border=\"1\" class=\"dataframe\">\n",
       "  <thead>\n",
       "    <tr style=\"text-align: right;\">\n",
       "      <th></th>\n",
       "      <th>Row Labels</th>\n",
       "      <th>Year</th>\n",
       "      <th>State</th>\n",
       "      <th>State Name</th>\n",
       "      <th>Sum of Data Value</th>\n",
       "      <th>Natural and Semisynthetic Opioids (e.g. oxycodone, hydrocodone)</th>\n",
       "      <th>Synthetic Opioids, other than Methadone (e.g. fentanyl, tramadol)</th>\n",
       "    </tr>\n",
       "  </thead>\n",
       "  <tbody>\n",
       "    <tr>\n",
       "      <th>20</th>\n",
       "      <td>CA2015</td>\n",
       "      <td>2015</td>\n",
       "      <td>CA</td>\n",
       "      <td>California</td>\n",
       "      <td>3056952</td>\n",
       "      <td>910</td>\n",
       "      <td>865</td>\n",
       "    </tr>\n",
       "    <tr>\n",
       "      <th>21</th>\n",
       "      <td>CA2016</td>\n",
       "      <td>2016</td>\n",
       "      <td>CA</td>\n",
       "      <td>California</td>\n",
       "      <td>3139581</td>\n",
       "      <td>910</td>\n",
       "      <td>865</td>\n",
       "    </tr>\n",
       "    <tr>\n",
       "      <th>22</th>\n",
       "      <td>CA2017</td>\n",
       "      <td>2017</td>\n",
       "      <td>CA</td>\n",
       "      <td>California</td>\n",
       "      <td>3202053</td>\n",
       "      <td>910</td>\n",
       "      <td>865</td>\n",
       "    </tr>\n",
       "    <tr>\n",
       "      <th>23</th>\n",
       "      <td>CA2018</td>\n",
       "      <td>2018</td>\n",
       "      <td>CA</td>\n",
       "      <td>California</td>\n",
       "      <td>3262105</td>\n",
       "      <td>910</td>\n",
       "      <td>865</td>\n",
       "    </tr>\n",
       "    <tr>\n",
       "      <th>24</th>\n",
       "      <td>CA2019</td>\n",
       "      <td>2019</td>\n",
       "      <td>CA</td>\n",
       "      <td>California</td>\n",
       "      <td>2139751</td>\n",
       "      <td>910</td>\n",
       "      <td>865</td>\n",
       "    </tr>\n",
       "  </tbody>\n",
       "</table>\n",
       "</div>"
      ],
      "text/plain": [
       "   Row Labels  Year State  State Name  Sum of Data Value  \\\n",
       "20     CA2015  2015    CA  California            3056952   \n",
       "21     CA2016  2016    CA  California            3139581   \n",
       "22     CA2017  2017    CA  California            3202053   \n",
       "23     CA2018  2018    CA  California            3262105   \n",
       "24     CA2019  2019    CA  California            2139751   \n",
       "\n",
       "    Natural and Semisynthetic Opioids (e.g. oxycodone, hydrocodone)  \\\n",
       "20                                                910                 \n",
       "21                                                910                 \n",
       "22                                                910                 \n",
       "23                                                910                 \n",
       "24                                                910                 \n",
       "\n",
       "    Synthetic Opioids, other than Methadone (e.g. fentanyl, tramadol)  \n",
       "20                                                865                  \n",
       "21                                                865                  \n",
       "22                                                865                  \n",
       "23                                                865                  \n",
       "24                                                865                  "
      ]
     },
     "execution_count": 5,
     "metadata": {},
     "output_type": "execute_result"
    }
   ],
   "source": [
    "Deaths_by_ca"
   ]
  },
  {
   "cell_type": "code",
   "execution_count": 6,
   "metadata": {
    "scrolled": true
   },
   "outputs": [
    {
     "data": {
      "image/png": "[encoded data removed]",
      "text/plain": [
       "<Figure size 432x288 with 1 Axes>"
      ]
     },
     "metadata": {
      "needs_background": "light"
     },
     "output_type": "display_data"
    }
   ],
   "source": [
    "#Bar Chart with Trendline Overdose Deaths by California:Recreationally Legal State\n",
    "e_axis= Deaths_by_ca['Year']\n",
    "f_axis= Deaths_by_ca['Sum of Data Value']\n",
    "xticks= np.arange(min(e_axis),max(f_axis),500000)\n",
    "#Trendline with Scatter\n",
    "dd_slope, dd_int, dd_r, dd_p, dd_std_err = stats.linregress(\n",
    "    e_axis, f_axis)\n",
    "dd_fit = dd_slope * e_axis + dd_int\n",
    "plt.bar(e_axis, f_axis, color=\"b\", align=\"center\")\n",
    "plt.plot(e_axis,dd_fit,\"--\")\n",
    "plt.xticks(c_axis, rotation=90)\n",
    "plt.xlabel('Year')\n",
    "plt.ylabel('Number of Overdose Deaths')\n",
    "plt.title(\"California Drug Overdose Deaths\")\n",
    "plt.show()"
   ]
  },
  {
   "cell_type": "code",
   "execution_count": 7,
   "metadata": {},
   "outputs": [
    {
     "data": {
      "image/png": "[encoded data removed]",
      "text/plain": [
       "<Figure size 432x288 with 1 Axes>"
      ]
     },
     "metadata": {
      "needs_background": "light"
     },
     "output_type": "display_data"
    }
   ],
   "source": [
    "#Bar Chart with Trendline Overdose Deaths by California: Recreationally legal State\n",
    "g_axis= Deaths_by_dc['Year']\n",
    "h_axis= Deaths_by_dc['Sum of Data Value']\n",
    "xticks= np.arange(min(g_axis),max(h_axis),500000)\n",
    "#Trendline with Scatter\n",
    "ee_slope, ee_int, ee_r, ee_p, ee_std_err = stats.linregress(\n",
    "    g_axis, h_axis)\n",
    "ee_fit = ee_slope * g_axis + ee_int\n",
    "plt.bar(g_axis, h_axis, color=\"r\", align=\"center\")\n",
    "plt.plot(e_axis,dd_fit,\"--\")\n",
    "plt.xticks(c_axis, rotation=90)\n",
    "plt.xlabel('Year')\n",
    "plt.ylabel('Number of Overdose Deaths')\n",
    "plt.title(\"District of Columbia Drug Overdose Deaths\")\n",
    "plt.show()"
   ]
  },
  {
   "cell_type": "code",
   "execution_count": 8,
   "metadata": {},
   "outputs": [],
   "source": [
    "Deaths_by_state_df = Deaths_by_state_df.loc[Deaths_by_state_df['Year']== 2018]"
   ]
  },
  {
   "cell_type": "code",
   "execution_count": 9,
   "metadata": {},
   "outputs": [
    {
     "data": {
      "text/html": [
       "<div>\n",
       "<style scoped>\n",
       "    .dataframe tbody tr th:only-of-type {\n",
       "        vertical-align: middle;\n",
       "    }\n",
       "\n",
       "    .dataframe tbody tr th {\n",
       "        vertical-align: top;\n",
       "    }\n",
       "\n",
       "    .dataframe thead th {\n",
       "        text-align: right;\n",
       "    }\n",
       "</style>\n",
       "<table border=\"1\" class=\"dataframe\">\n",
       "  <thead>\n",
       "    <tr style=\"text-align: right;\">\n",
       "      <th></th>\n",
       "      <th>Row Labels</th>\n",
       "      <th>Year</th>\n",
       "      <th>State</th>\n",
       "      <th>State Name</th>\n",
       "      <th>Sum of Data Value</th>\n",
       "      <th>Natural and Semisynthetic Opioids (e.g. oxycodone, hydrocodone)</th>\n",
       "      <th>Synthetic Opioids, other than Methadone (e.g. fentanyl, tramadol)</th>\n",
       "    </tr>\n",
       "  </thead>\n",
       "  <tbody>\n",
       "    <tr>\n",
       "      <th>3</th>\n",
       "      <td>AK2018</td>\n",
       "      <td>2018</td>\n",
       "      <td>AK</td>\n",
       "      <td>Alaska</td>\n",
       "      <td>51865</td>\n",
       "      <td>34</td>\n",
       "      <td>18</td>\n",
       "    </tr>\n",
       "    <tr>\n",
       "      <th>8</th>\n",
       "      <td>AL2018</td>\n",
       "      <td>2018</td>\n",
       "      <td>AL</td>\n",
       "      <td>Alabama</td>\n",
       "      <td>639981</td>\n",
       "      <td>126</td>\n",
       "      <td>147</td>\n",
       "    </tr>\n",
       "    <tr>\n",
       "      <th>13</th>\n",
       "      <td>AR2018</td>\n",
       "      <td>2018</td>\n",
       "      <td>AR</td>\n",
       "      <td>Arkansas</td>\n",
       "      <td>385161</td>\n",
       "      <td>108</td>\n",
       "      <td>92</td>\n",
       "    </tr>\n",
       "    <tr>\n",
       "      <th>18</th>\n",
       "      <td>AZ2018</td>\n",
       "      <td>2018</td>\n",
       "      <td>AZ</td>\n",
       "      <td>Arizona</td>\n",
       "      <td>722039</td>\n",
       "      <td>311</td>\n",
       "      <td>522</td>\n",
       "    </tr>\n",
       "    <tr>\n",
       "      <th>23</th>\n",
       "      <td>CA2018</td>\n",
       "      <td>2018</td>\n",
       "      <td>CA</td>\n",
       "      <td>California</td>\n",
       "      <td>3262105</td>\n",
       "      <td>910</td>\n",
       "      <td>865</td>\n",
       "    </tr>\n",
       "  </tbody>\n",
       "</table>\n",
       "</div>"
      ],
      "text/plain": [
       "   Row Labels  Year State  State Name  Sum of Data Value  \\\n",
       "3      AK2018  2018    AK      Alaska              51865   \n",
       "8      AL2018  2018    AL     Alabama             639981   \n",
       "13     AR2018  2018    AR    Arkansas             385161   \n",
       "18     AZ2018  2018    AZ     Arizona             722039   \n",
       "23     CA2018  2018    CA  California            3262105   \n",
       "\n",
       "    Natural and Semisynthetic Opioids (e.g. oxycodone, hydrocodone)  \\\n",
       "3                                                  34                 \n",
       "8                                                 126                 \n",
       "13                                                108                 \n",
       "18                                                311                 \n",
       "23                                                910                 \n",
       "\n",
       "    Synthetic Opioids, other than Methadone (e.g. fentanyl, tramadol)  \n",
       "3                                                  18                  \n",
       "8                                                 147                  \n",
       "13                                                 92                  \n",
       "18                                                522                  \n",
       "23                                                865                  "
      ]
     },
     "execution_count": 9,
     "metadata": {},
     "output_type": "execute_result"
    }
   ],
   "source": [
    "Deaths_by_state_df\n",
    "Deaths_by_state_df.head()"
   ]
  },
  {
   "cell_type": "code",
   "execution_count": 10,
   "metadata": {},
   "outputs": [],
   "source": [
    "Deaths_by_state_df = Deaths_by_state_df.loc[Deaths_by_state_df['State'] != 'US']"
   ]
  },
  {
   "cell_type": "code",
   "execution_count": 11,
   "metadata": {},
   "outputs": [
    {
     "data": {
      "image/png": "[encoded data removed]",
      "text/plain": [
       "<Figure size 432x288 with 1 Axes>"
      ]
     },
     "metadata": {
      "needs_background": "light"
     },
     "output_type": "display_data"
    }
   ],
   "source": [
    "#Round min & max value in scatter plot\n",
    "\n",
    "#Scatter Plot Overdose Deaths vs. Opiod Type\n",
    "x_axis= Deaths_by_state_df['Sum of Data Value']\n",
    "y_axis= Deaths_by_state_df['Natural and Semisynthetic Opioids (e.g. oxycodone, hydrocodone)']\n",
    "xticks= np.arange(min(x_axis),max(x_axis),500000)\n",
    "#Trendline with Scatter\n",
    "aa_slope, aa_int, aa_r, aa_p, aa_std_err = stats.linregress(\n",
    "    x_axis, y_axis)\n",
    "aa_fit = aa_slope * x_axis + aa_int\n",
    "plt.scatter(x_axis,y_axis)\n",
    "plt.plot(x_axis,aa_fit,\"--\")\n",
    "plt.xticks(xticks, rotation=90)\n",
    "plt.xlabel('Number of Overdose Deaths')\n",
    "plt.ylabel('Natural & Semisynthetic Opiod Usage')\n",
    "plt.show()"
   ]
  },
  {
   "cell_type": "code",
   "execution_count": 12,
   "metadata": {},
   "outputs": [
    {
     "data": {
      "image/png": "[encoded data removed]",
      "text/plain": [
       "<Figure size 432x288 with 1 Axes>"
      ]
     },
     "metadata": {
      "needs_background": "light"
     },
     "output_type": "display_data"
    }
   ],
   "source": [
    "#Trendline with Scatter\n",
    "#Overdoses vs. Opiod Use Type Synthetic\n",
    "x_axis= Deaths_by_state_df['Sum of Data Value']\n",
    "y2_axis= Deaths_by_state_df['Synthetic Opioids, other than Methadone (e.g. fentanyl, tramadol)']\n",
    "xticks= np.arange(min(x_axis),max(x_axis),500000)\n",
    "bb_slope, bb_int, bb_r, bb_p, bb_std_err = stats.linregress(\n",
    "    x_axis, y2_axis)\n",
    "bb_fit = bb_slope * x_axis + bb_int\n",
    "plt.scatter(x_axis,y2_axis)\n",
    "plt.plot(x_axis,bb_fit,\"--\")\n",
    "plt.xticks(xticks, rotation=90)\n",
    "plt.xlabel('Number of Overdose Deaths')\n",
    "plt.ylabel('Synthetic Opiod Usage')\n",
    "plt.show()"
   ]
  },
  {
   "cell_type": "code",
   "execution_count": 13,
   "metadata": {},
   "outputs": [
    {
     "data": {
      "text/plain": [
       "Text(0, 0.5, 'Synthetic Opiod Usage')"
      ]
     },
     "execution_count": 13,
     "metadata": {},
     "output_type": "execute_result"
    },
    {
     "data": {
      "image/png": "[encoded data removed]",
      "text/plain": [
       "<Figure size 432x288 with 2 Axes>"
      ]
     },
     "metadata": {
      "needs_background": "light"
     },
     "output_type": "display_data"
    }
   ],
   "source": [
    "#Correlation graph comparing Opioid Deaths to Drug overdose Type\n",
    "fig, (ax1, ax2) = plt.subplots(2, sharex=True)\n",
    "fig.suptitle(\"Opiod Deaths by Opioid Type in 2018\", fontsize=16, fontweight=\"bold\")\n",
    "\n",
    "ax1.set_xlim(min(x_axis), max(x_axis))\n",
    "ax1.scatter(x_axis,y_axis,marker=\"o\")\n",
    "ax1.plot(x_axis, aa_fit, \"b--\", linewidth=1)\n",
    "ax1.set_ylabel(\"Natural Opiod Usage\", fontsize=10)\n",
    "\n",
    "ax2.scatter(x_axis,y2_axis,marker=\"o\", color=\"g\")\n",
    "ax2.plot(x_axis, bb_fit, \"g--\", linewidth=1)\n",
    "ax2.set_ylabel(\"Synthetic Opiod Usage\",fontsize=10)"
   ]
  },
  {
   "cell_type": "code",
   "execution_count": null,
   "metadata": {},
   "outputs": [],
   "source": []
  },
  {
   "cell_type": "code",
   "execution_count": null,
   "metadata": {},
   "outputs": [],
   "source": []
  },
  {
   "cell_type": "code",
   "execution_count": null,
   "metadata": {},
   "outputs": [],
   "source": []
  },
  {
   "cell_type": "code",
   "execution_count": 14,
   "metadata": {},
   "outputs": [],
   "source": []
  },
  {
   "cell_type": "code",
   "execution_count": 15,
   "metadata": {},
   "outputs": [],
   "source": []
  }
 ],
 "metadata": {
  "kernelspec": {
   "display_name": "Python 3",
   "language": "python",
   "name": "python3"
  },
  "language_info": {
   "codemirror_mode": {
    "name": "ipython",
    "version": 3
   },
   "file_extension": ".py",
   "mimetype": "text/x-python",
   "name": "python",
   "nbconvert_exporter": "python",
   "pygments_lexer": "ipython3",
   "version": "3.7.1"
  }
 },
 "nbformat": 4,
 "nbformat_minor": 2
}
