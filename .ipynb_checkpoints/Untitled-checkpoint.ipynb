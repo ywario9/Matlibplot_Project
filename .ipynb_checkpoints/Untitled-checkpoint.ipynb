{
 "cells": [
  {
   "cell_type": "markdown",
   "metadata": {},
   "source": [
    "# Legalizing Cannabis Decreases Fatal Opiate Overdoses "
   ]
  },
  {
   "cell_type": "code",
   "execution_count": 18,
   "metadata": {},
   "outputs": [
    {
     "data": {
      "text/html": [
       "<div>\n",
       "<style scoped>\n",
       "    .dataframe tbody tr th:only-of-type {\n",
       "        vertical-align: middle;\n",
       "    }\n",
       "\n",
       "    .dataframe tbody tr th {\n",
       "        vertical-align: top;\n",
       "    }\n",
       "\n",
       "    .dataframe thead th {\n",
       "        text-align: right;\n",
       "    }\n",
       "</style>\n",
       "<table border=\"1\" class=\"dataframe\">\n",
       "  <thead>\n",
       "    <tr style=\"text-align: right;\">\n",
       "      <th></th>\n",
       "      <th>Location</th>\n",
       "      <th>Natural and Semisynthetic Opioids (e.g. oxycodone, hydrocodone)</th>\n",
       "      <th>Synthetic Opioids, other than Methadone (e.g. fentanyl, tramadol)</th>\n",
       "      <th>Methadone</th>\n",
       "      <th>Heroin</th>\n",
       "    </tr>\n",
       "  </thead>\n",
       "  <tbody>\n",
       "    <tr>\n",
       "      <td>0</td>\n",
       "      <td>United States</td>\n",
       "      <td>NaN</td>\n",
       "      <td>NaN</td>\n",
       "      <td>3023.0</td>\n",
       "      <td>14996.0</td>\n",
       "    </tr>\n",
       "    <tr>\n",
       "      <td>1</td>\n",
       "      <td>Alabama</td>\n",
       "      <td>126.0</td>\n",
       "      <td>147.0</td>\n",
       "      <td>32.0</td>\n",
       "      <td>137.0</td>\n",
       "    </tr>\n",
       "    <tr>\n",
       "      <td>2</td>\n",
       "      <td>Alaska</td>\n",
       "      <td>34.0</td>\n",
       "      <td>18.0</td>\n",
       "      <td>NaN</td>\n",
       "      <td>29.0</td>\n",
       "    </tr>\n",
       "    <tr>\n",
       "      <td>3</td>\n",
       "      <td>Arizona</td>\n",
       "      <td>311.0</td>\n",
       "      <td>522.0</td>\n",
       "      <td>62.0</td>\n",
       "      <td>352.0</td>\n",
       "    </tr>\n",
       "    <tr>\n",
       "      <td>4</td>\n",
       "      <td>Arkansas</td>\n",
       "      <td>108.0</td>\n",
       "      <td>92.0</td>\n",
       "      <td>16.0</td>\n",
       "      <td>19.0</td>\n",
       "    </tr>\n",
       "  </tbody>\n",
       "</table>\n",
       "</div>"
      ],
      "text/plain": [
       "        Location  \\\n",
       "0  United States   \n",
       "1        Alabama   \n",
       "2         Alaska   \n",
       "3        Arizona   \n",
       "4       Arkansas   \n",
       "\n",
       "   Natural and Semisynthetic Opioids (e.g. oxycodone, hydrocodone)  \\\n",
       "0                                                NaN                 \n",
       "1                                              126.0                 \n",
       "2                                               34.0                 \n",
       "3                                              311.0                 \n",
       "4                                              108.0                 \n",
       "\n",
       "   Synthetic Opioids, other than Methadone (e.g. fentanyl, tramadol)  \\\n",
       "0                                                NaN                   \n",
       "1                                              147.0                   \n",
       "2                                               18.0                   \n",
       "3                                              522.0                   \n",
       "4                                               92.0                   \n",
       "\n",
       "   Methadone   Heroin  \n",
       "0     3023.0  14996.0  \n",
       "1       32.0    137.0  \n",
       "2        NaN     29.0  \n",
       "3       62.0    352.0  \n",
       "4       16.0     19.0  "
      ]
     },
     "execution_count": 18,
     "metadata": {},
     "output_type": "execute_result"
    }
   ],
   "source": [
    "import matplotlib.pyplot as plt\n",
    "import pandas as pd\n",
    "import scipy.stats as st\n",
    "import numpy as np\n",
    "\n",
    "\n",
    "\n",
    "#study data files\n",
    "Overdose_by_opiods_df = pd.read_csv('raw_data.csv')\n",
    "Legal_by_state= pd.read_csv()\n",
    "\n",
    "\n",
    "Overdose_by_opiods_df.head()\n",
    "\n",
    "\n",
    "\n",
    "\n"
   ]
  },
  {
   "cell_type": "markdown",
   "metadata": {},
   "source": [
    "According to the American Academy of Pain Medicine, more than 100 million Americans suffer from chronic pain. In an effort to relieve that constant pain, the number of opiate prescriptions has nearly doubled over the last decade. Today, opiates like hydrocodone, oxycodone, and morphine flood the streets, driving up addiction rates and fatal opiate overdoses."
   ]
  },
  {
   "cell_type": "code",
   "execution_count": null,
   "metadata": {},
   "outputs": [],
   "source": [
    "#create a bar chart comparing opioids deaths by type of opioids \n",
    "\n",
    "#create labels for x and y \n",
    "\n",
    "plt.title(\"\")\n",
    "plt.xlabel(\"\")\n",
    "plt.ylabel(\"\")\n",
    "\n"
   ]
  },
  {
   "cell_type": "code",
   "execution_count": null,
   "metadata": {},
   "outputs": [],
   "source": [
    "#create a pie plot comparing over doses by age group"
   ]
  },
  {
   "cell_type": "code",
   "execution_count": null,
   "metadata": {},
   "outputs": [],
   "source": [
    "#create a pie plot comparing youth cannabis usage "
   ]
  },
  {
   "cell_type": "code",
   "execution_count": 1,
   "metadata": {},
   "outputs": [],
   "source": [
    "\n",
    "# y axel -age group overdose x axel -by year and add a legend of the appropriate opioid  \n",
    "\n",
    "\n",
    "\n"
   ]
  },
  {
   "cell_type": "code",
   "execution_count": null,
   "metadata": {},
   "outputs": [],
   "source": [
    "#create scatter plot with a legend of age group affected the most"
   ]
  },
  {
   "cell_type": "raw",
   "metadata": {},
   "source": [
    "#create a graph showing the rates of fatal opioid overdoses significantly --\n",
    "#lower in states that have legalized medical/recreational marijuana.\n",
    "\n",
    "\n"
   ]
  },
  {
   "cell_type": "markdown",
   "metadata": {},
   "source": [
    "We found there was about \"enter percent here\" lower rate of prescription painkiller overdose deaths on average after implementation of a medical marijuana law.\n",
    "\n"
   ]
  },
  {
   "cell_type": "raw",
   "metadata": {},
   "source": []
  }
 ],
 "metadata": {
  "kernelspec": {
   "display_name": "Python 3",
   "language": "python",
   "name": "python3"
  },
  "language_info": {
   "codemirror_mode": {
    "name": "ipython",
    "version": 3
   },
   "file_extension": ".py",
   "mimetype": "text/x-python",
   "name": "python",
   "nbconvert_exporter": "python",
   "pygments_lexer": "ipython3",
   "version": "3.7.4"
  }
 },
 "nbformat": 4,
 "nbformat_minor": 2
}
